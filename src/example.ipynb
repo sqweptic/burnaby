{
 "cells": [
  {
   "cell_type": "code",
   "execution_count": 6,
   "id": "d94486c2",
   "metadata": {},
   "outputs": [],
   "source": [
    "import pandas as pd\n",
    "import numpy as np\n",
    "\n",
    "from main import set_ab_test \n",
    "from main import validate_ab_test_data\n",
    "from main import test_hypothesis_rational\n",
    "from main import test_hypothesis_continuous\n",
    "from main import print_statistical_report\n",
    "from main import save_report_to_html"
   ]
  },
  {
   "cell_type": "code",
   "execution_count": 7,
   "id": "0eb4ac2d",
   "metadata": {},
   "outputs": [],
   "source": [
    "%load_ext autoreload\n",
    "%autoreload 2"
   ]
  },
  {
   "cell_type": "code",
   "execution_count": 24,
   "id": "5f8cbc07",
   "metadata": {},
   "outputs": [],
   "source": [
    "EXPERIMENT_NAME = 'ab_price_discount'\n",
    "\n",
    "exp_df = pd.DataFrame({\n",
    "    'user_id': [1, 1, 2, 3, 3, 4, 5, 6],\n",
    "    'dt': ['2021-01-01', '2021-01-02', '2021-01-01', '2021-01-02', '2021-01-03', '2021-01-02', '2021-01-05', '2021-01-01'],\n",
    "    'group': [1, 1, 1, 2, 2, 2, 1, 1],\n",
    "    'payment': [np.nan, 100, np.nan, 110, np.nan, 50, np.nan, 130]\n",
    "})"
   ]
  },
  {
   "cell_type": "code",
   "execution_count": 25,
   "id": "a24754ff",
   "metadata": {},
   "outputs": [
    {
     "data": {
      "text/html": [
       "<div>\n",
       "<style scoped>\n",
       "    .dataframe tbody tr th:only-of-type {\n",
       "        vertical-align: middle;\n",
       "    }\n",
       "\n",
       "    .dataframe tbody tr th {\n",
       "        vertical-align: top;\n",
       "    }\n",
       "\n",
       "    .dataframe thead th {\n",
       "        text-align: right;\n",
       "    }\n",
       "</style>\n",
       "<table border=\"1\" class=\"dataframe\">\n",
       "  <thead>\n",
       "    <tr style=\"text-align: right;\">\n",
       "      <th></th>\n",
       "      <th>user_id</th>\n",
       "      <th>group</th>\n",
       "      <th>payment</th>\n",
       "    </tr>\n",
       "  </thead>\n",
       "  <tbody>\n",
       "    <tr>\n",
       "      <th>count</th>\n",
       "      <td>8.000000</td>\n",
       "      <td>8.000000</td>\n",
       "      <td>4.000000</td>\n",
       "    </tr>\n",
       "    <tr>\n",
       "      <th>mean</th>\n",
       "      <td>3.125000</td>\n",
       "      <td>1.375000</td>\n",
       "      <td>97.500000</td>\n",
       "    </tr>\n",
       "    <tr>\n",
       "      <th>std</th>\n",
       "      <td>1.807722</td>\n",
       "      <td>0.517549</td>\n",
       "      <td>34.034296</td>\n",
       "    </tr>\n",
       "    <tr>\n",
       "      <th>min</th>\n",
       "      <td>1.000000</td>\n",
       "      <td>1.000000</td>\n",
       "      <td>50.000000</td>\n",
       "    </tr>\n",
       "    <tr>\n",
       "      <th>25%</th>\n",
       "      <td>1.750000</td>\n",
       "      <td>1.000000</td>\n",
       "      <td>87.500000</td>\n",
       "    </tr>\n",
       "    <tr>\n",
       "      <th>50%</th>\n",
       "      <td>3.000000</td>\n",
       "      <td>1.000000</td>\n",
       "      <td>105.000000</td>\n",
       "    </tr>\n",
       "    <tr>\n",
       "      <th>75%</th>\n",
       "      <td>4.250000</td>\n",
       "      <td>2.000000</td>\n",
       "      <td>115.000000</td>\n",
       "    </tr>\n",
       "    <tr>\n",
       "      <th>max</th>\n",
       "      <td>6.000000</td>\n",
       "      <td>2.000000</td>\n",
       "      <td>130.000000</td>\n",
       "    </tr>\n",
       "  </tbody>\n",
       "</table>\n",
       "</div>"
      ],
      "text/plain": [
       "        user_id     group     payment\n",
       "count  8.000000  8.000000    4.000000\n",
       "mean   3.125000  1.375000   97.500000\n",
       "std    1.807722  0.517549   34.034296\n",
       "min    1.000000  1.000000   50.000000\n",
       "25%    1.750000  1.000000   87.500000\n",
       "50%    3.000000  1.000000  105.000000\n",
       "75%    4.250000  2.000000  115.000000\n",
       "max    6.000000  2.000000  130.000000"
      ]
     },
     "execution_count": 25,
     "metadata": {},
     "output_type": "execute_result"
    }
   ],
   "source": [
    "exp_df.describe()"
   ]
  },
  {
   "cell_type": "code",
   "execution_count": 26,
   "id": "71b8d970",
   "metadata": {},
   "outputs": [
    {
     "data": {
      "text/plain": [
       "<abtest_conductor.ABTestConductor at 0x2a8ff1909a0>"
      ]
     },
     "execution_count": 26,
     "metadata": {},
     "output_type": "execute_result"
    }
   ],
   "source": [
    "set_ab_test(\n",
    "    ab_test_name=EXPERIMENT_NAME, \n",
    "    dataframe=exp_df, \n",
    "    group_col='group', \n",
    "    date_col='dt', \n",
    "    uniq_id_col='user_id',\n",
    "    control_group_name='A'\n",
    ")"
   ]
  },
  {
   "cell_type": "code",
   "execution_count": 27,
   "id": "c8735c33",
   "metadata": {},
   "outputs": [
    {
     "data": {
      "text/html": [
       "<div>\n",
       "<style scoped>\n",
       "    .dataframe tbody tr th:only-of-type {\n",
       "        vertical-align: middle;\n",
       "    }\n",
       "\n",
       "    .dataframe tbody tr th {\n",
       "        vertical-align: top;\n",
       "    }\n",
       "\n",
       "    .dataframe thead th {\n",
       "        text-align: right;\n",
       "    }\n",
       "</style>\n",
       "<table border=\"1\" class=\"dataframe\">\n",
       "  <thead>\n",
       "    <tr style=\"text-align: right;\">\n",
       "      <th></th>\n",
       "      <th>group</th>\n",
       "      <th>1</th>\n",
       "      <th>2</th>\n",
       "    </tr>\n",
       "  </thead>\n",
       "  <tbody>\n",
       "    <tr>\n",
       "      <th rowspan=\"8\" valign=\"top\">user_id</th>\n",
       "      <th>count</th>\n",
       "      <td>5.000000</td>\n",
       "      <td>3.000000</td>\n",
       "    </tr>\n",
       "    <tr>\n",
       "      <th>mean</th>\n",
       "      <td>3.000000</td>\n",
       "      <td>3.333333</td>\n",
       "    </tr>\n",
       "    <tr>\n",
       "      <th>std</th>\n",
       "      <td>2.345208</td>\n",
       "      <td>0.577350</td>\n",
       "    </tr>\n",
       "    <tr>\n",
       "      <th>min</th>\n",
       "      <td>1.000000</td>\n",
       "      <td>3.000000</td>\n",
       "    </tr>\n",
       "    <tr>\n",
       "      <th>25%</th>\n",
       "      <td>1.000000</td>\n",
       "      <td>3.000000</td>\n",
       "    </tr>\n",
       "    <tr>\n",
       "      <th>50%</th>\n",
       "      <td>2.000000</td>\n",
       "      <td>3.000000</td>\n",
       "    </tr>\n",
       "    <tr>\n",
       "      <th>75%</th>\n",
       "      <td>5.000000</td>\n",
       "      <td>3.500000</td>\n",
       "    </tr>\n",
       "    <tr>\n",
       "      <th>max</th>\n",
       "      <td>6.000000</td>\n",
       "      <td>4.000000</td>\n",
       "    </tr>\n",
       "    <tr>\n",
       "      <th rowspan=\"8\" valign=\"top\">payment</th>\n",
       "      <th>count</th>\n",
       "      <td>2.000000</td>\n",
       "      <td>2.000000</td>\n",
       "    </tr>\n",
       "    <tr>\n",
       "      <th>mean</th>\n",
       "      <td>115.000000</td>\n",
       "      <td>80.000000</td>\n",
       "    </tr>\n",
       "    <tr>\n",
       "      <th>std</th>\n",
       "      <td>21.213203</td>\n",
       "      <td>42.426407</td>\n",
       "    </tr>\n",
       "    <tr>\n",
       "      <th>min</th>\n",
       "      <td>100.000000</td>\n",
       "      <td>50.000000</td>\n",
       "    </tr>\n",
       "    <tr>\n",
       "      <th>25%</th>\n",
       "      <td>107.500000</td>\n",
       "      <td>65.000000</td>\n",
       "    </tr>\n",
       "    <tr>\n",
       "      <th>50%</th>\n",
       "      <td>115.000000</td>\n",
       "      <td>80.000000</td>\n",
       "    </tr>\n",
       "    <tr>\n",
       "      <th>75%</th>\n",
       "      <td>122.500000</td>\n",
       "      <td>95.000000</td>\n",
       "    </tr>\n",
       "    <tr>\n",
       "      <th>max</th>\n",
       "      <td>130.000000</td>\n",
       "      <td>110.000000</td>\n",
       "    </tr>\n",
       "  </tbody>\n",
       "</table>\n",
       "</div>"
      ],
      "text/plain": [
       "group                   1           2\n",
       "user_id count    5.000000    3.000000\n",
       "        mean     3.000000    3.333333\n",
       "        std      2.345208    0.577350\n",
       "        min      1.000000    3.000000\n",
       "        25%      1.000000    3.000000\n",
       "        50%      2.000000    3.000000\n",
       "        75%      5.000000    3.500000\n",
       "        max      6.000000    4.000000\n",
       "payment count    2.000000    2.000000\n",
       "        mean   115.000000   80.000000\n",
       "        std     21.213203   42.426407\n",
       "        min    100.000000   50.000000\n",
       "        25%    107.500000   65.000000\n",
       "        50%    115.000000   80.000000\n",
       "        75%    122.500000   95.000000\n",
       "        max    130.000000  110.000000"
      ]
     },
     "metadata": {},
     "output_type": "display_data"
    }
   ],
   "source": [
    "validate_ab_test_data(EXPERIMENT_NAME, validators=[])"
   ]
  },
  {
   "cell_type": "code",
   "execution_count": 28,
   "id": "84ba8c65",
   "metadata": {},
   "outputs": [
    {
     "data": {
      "text/plain": [
       "'test_hypothesis_rational'"
      ]
     },
     "metadata": {},
     "output_type": "display_data"
    }
   ],
   "source": [
    "test_hypothesis_rational(\n",
    "    EXPERIMENT_NAME,\n",
    "    nominator='converted',\n",
    "    denominator='user_id',\n",
    "    stat_test='chisquare', # ztest\n",
    "    description='conversion to purchase'\n",
    ")"
   ]
  },
  {
   "cell_type": "code",
   "execution_count": 29,
   "id": "050ad34e",
   "metadata": {},
   "outputs": [
    {
     "data": {
      "text/plain": [
       "'test_hypothesis_continuous'"
      ]
     },
     "metadata": {},
     "output_type": "display_data"
    }
   ],
   "source": [
    "test_hypothesis_continuous(\n",
    "    EXPERIMENT_NAME,\n",
    "    value='payment_amount',\n",
    "    stat_test='ttest_welsh', # ttest, ftest, ztest\n",
    "    description='total user amount USD after fee'\n",
    ")"
   ]
  },
  {
   "cell_type": "code",
   "execution_count": 30,
   "id": "e8b8e38b",
   "metadata": {},
   "outputs": [
    {
     "data": {
      "text/plain": [
       "'print_statistical_report'"
      ]
     },
     "metadata": {},
     "output_type": "display_data"
    }
   ],
   "source": [
    "print_statistical_report(EXPERIMENT_NAME)"
   ]
  },
  {
   "cell_type": "code",
   "execution_count": 31,
   "id": "7510e686",
   "metadata": {},
   "outputs": [
    {
     "data": {
      "text/plain": [
       "'save_report_to_html'"
      ]
     },
     "metadata": {},
     "output_type": "display_data"
    }
   ],
   "source": [
    "save_report_to_html(EXPERIMENT_NAME)"
   ]
  },
  {
   "cell_type": "code",
   "execution_count": null,
   "id": "06ab99a7",
   "metadata": {},
   "outputs": [],
   "source": []
  }
 ],
 "metadata": {
  "interpreter": {
   "hash": "d9c6852130284a8c17c0cd0350af91b42bb0a1aa584f29090a61530532e3b0b0"
  },
  "kernelspec": {
   "display_name": "Python 3.9.1 64-bit",
   "name": "python3"
  },
  "language_info": {
   "codemirror_mode": {
    "name": "ipython",
    "version": 3
   },
   "file_extension": ".py",
   "mimetype": "text/x-python",
   "name": "python",
   "nbconvert_exporter": "python",
   "pygments_lexer": "ipython3",
   "version": "3.9.1"
  }
 },
 "nbformat": 4,
 "nbformat_minor": 5
}
