{
 "cells": [
  {
   "cell_type": "code",
   "execution_count": 28,
   "id": "d94486c2",
   "metadata": {},
   "outputs": [],
   "source": [
    "import pandas as pd\n",
    "import numpy as np\n",
    "\n",
    "from main import set_ab_test \n",
    "from main import validate_ab_test_data\n",
    "from main import test_hypothesis_relational\n",
    "from main import test_hypothesis_continuous\n",
    "from main import print_statistical_report\n",
    "from main import save_report_to_html"
   ]
  },
  {
   "cell_type": "code",
   "execution_count": 29,
   "id": "0eb4ac2d",
   "metadata": {},
   "outputs": [
    {
     "name": "stdout",
     "output_type": "stream",
     "text": [
      "The autoreload extension is already loaded. To reload it, use:\n",
      "  %reload_ext autoreload\n"
     ]
    }
   ],
   "source": [
    "%load_ext autoreload\n",
    "%autoreload 2"
   ]
  },
  {
   "cell_type": "code",
   "execution_count": 30,
   "id": "5f8cbc07",
   "metadata": {},
   "outputs": [],
   "source": [
    "EXPERIMENT_NAME = 'ab_price_discount'\n",
    "\n",
    "exp_df = pd.DataFrame({\n",
    "    'user_id': [1, 1, 2, 3, 3, 4, 5, 6],\n",
    "    'dt': ['2021-01-01', '2021-01-02', '2021-01-01', '2021-01-02', '2021-01-03', '2021-01-02', '2021-01-05', '2021-01-01'],\n",
    "    'group': [2, 1, 1, 2, 2, 2, 1, 3],\n",
    "    'payment': [np.nan, 100, np.nan, 110, np.nan, 50, np.nan, 130],\n",
    "    'clicks': [0, 11, 2, 9, 1, 4, 0, 15]\n",
    "})"
   ]
  },
  {
   "cell_type": "code",
   "execution_count": 31,
   "id": "a24754ff",
   "metadata": {},
   "outputs": [
    {
     "data": {
      "text/html": [
       "<div>\n",
       "<style scoped>\n",
       "    .dataframe tbody tr th:only-of-type {\n",
       "        vertical-align: middle;\n",
       "    }\n",
       "\n",
       "    .dataframe tbody tr th {\n",
       "        vertical-align: top;\n",
       "    }\n",
       "\n",
       "    .dataframe thead th {\n",
       "        text-align: right;\n",
       "    }\n",
       "</style>\n",
       "<table border=\"1\" class=\"dataframe\">\n",
       "  <thead>\n",
       "    <tr style=\"text-align: right;\">\n",
       "      <th></th>\n",
       "      <th>user_id</th>\n",
       "      <th>group</th>\n",
       "      <th>payment</th>\n",
       "      <th>clicks</th>\n",
       "    </tr>\n",
       "  </thead>\n",
       "  <tbody>\n",
       "    <tr>\n",
       "      <th>count</th>\n",
       "      <td>8.000000</td>\n",
       "      <td>8.000000</td>\n",
       "      <td>4.000000</td>\n",
       "      <td>8.000000</td>\n",
       "    </tr>\n",
       "    <tr>\n",
       "      <th>mean</th>\n",
       "      <td>3.125000</td>\n",
       "      <td>1.750000</td>\n",
       "      <td>97.500000</td>\n",
       "      <td>5.250000</td>\n",
       "    </tr>\n",
       "    <tr>\n",
       "      <th>std</th>\n",
       "      <td>1.807722</td>\n",
       "      <td>0.707107</td>\n",
       "      <td>34.034296</td>\n",
       "      <td>5.700877</td>\n",
       "    </tr>\n",
       "    <tr>\n",
       "      <th>min</th>\n",
       "      <td>1.000000</td>\n",
       "      <td>1.000000</td>\n",
       "      <td>50.000000</td>\n",
       "      <td>0.000000</td>\n",
       "    </tr>\n",
       "    <tr>\n",
       "      <th>25%</th>\n",
       "      <td>1.750000</td>\n",
       "      <td>1.000000</td>\n",
       "      <td>87.500000</td>\n",
       "      <td>0.750000</td>\n",
       "    </tr>\n",
       "    <tr>\n",
       "      <th>50%</th>\n",
       "      <td>3.000000</td>\n",
       "      <td>2.000000</td>\n",
       "      <td>105.000000</td>\n",
       "      <td>3.000000</td>\n",
       "    </tr>\n",
       "    <tr>\n",
       "      <th>75%</th>\n",
       "      <td>4.250000</td>\n",
       "      <td>2.000000</td>\n",
       "      <td>115.000000</td>\n",
       "      <td>9.500000</td>\n",
       "    </tr>\n",
       "    <tr>\n",
       "      <th>max</th>\n",
       "      <td>6.000000</td>\n",
       "      <td>3.000000</td>\n",
       "      <td>130.000000</td>\n",
       "      <td>15.000000</td>\n",
       "    </tr>\n",
       "  </tbody>\n",
       "</table>\n",
       "</div>"
      ],
      "text/plain": [
       "        user_id     group     payment     clicks\n",
       "count  8.000000  8.000000    4.000000   8.000000\n",
       "mean   3.125000  1.750000   97.500000   5.250000\n",
       "std    1.807722  0.707107   34.034296   5.700877\n",
       "min    1.000000  1.000000   50.000000   0.000000\n",
       "25%    1.750000  1.000000   87.500000   0.750000\n",
       "50%    3.000000  2.000000  105.000000   3.000000\n",
       "75%    4.250000  2.000000  115.000000   9.500000\n",
       "max    6.000000  3.000000  130.000000  15.000000"
      ]
     },
     "execution_count": 31,
     "metadata": {},
     "output_type": "execute_result"
    }
   ],
   "source": [
    "exp_df.describe()"
   ]
  },
  {
   "cell_type": "code",
   "execution_count": 32,
   "id": "71b8d970",
   "metadata": {},
   "outputs": [],
   "source": [
    "m = set_ab_test(\n",
    "    ab_test_name=EXPERIMENT_NAME, \n",
    "    dataframe=exp_df, \n",
    "    group_col='group', \n",
    "    date_col='dt', \n",
    "    uniq_id_col='user_id',\n",
    "    control_group_name=1\n",
    ")"
   ]
  },
  {
   "cell_type": "code",
   "execution_count": 33,
   "id": "c8735c33",
   "metadata": {},
   "outputs": [
    {
     "data": {
      "text/html": [
       "<div>\n",
       "<style scoped>\n",
       "    .dataframe tbody tr th:only-of-type {\n",
       "        vertical-align: middle;\n",
       "    }\n",
       "\n",
       "    .dataframe tbody tr th {\n",
       "        vertical-align: top;\n",
       "    }\n",
       "\n",
       "    .dataframe thead th {\n",
       "        text-align: right;\n",
       "    }\n",
       "</style>\n",
       "<table border=\"1\" class=\"dataframe\">\n",
       "  <thead>\n",
       "    <tr style=\"text-align: right;\">\n",
       "      <th></th>\n",
       "      <th>group</th>\n",
       "      <th>1</th>\n",
       "      <th>2</th>\n",
       "      <th>3</th>\n",
       "    </tr>\n",
       "  </thead>\n",
       "  <tbody>\n",
       "    <tr>\n",
       "      <th rowspan=\"8\" valign=\"top\">user_id</th>\n",
       "      <th>count</th>\n",
       "      <td>3.000000</td>\n",
       "      <td>4.000000</td>\n",
       "      <td>1.0</td>\n",
       "    </tr>\n",
       "    <tr>\n",
       "      <th>mean</th>\n",
       "      <td>2.666667</td>\n",
       "      <td>2.750000</td>\n",
       "      <td>6.0</td>\n",
       "    </tr>\n",
       "    <tr>\n",
       "      <th>std</th>\n",
       "      <td>2.081666</td>\n",
       "      <td>1.258306</td>\n",
       "      <td>NaN</td>\n",
       "    </tr>\n",
       "    <tr>\n",
       "      <th>min</th>\n",
       "      <td>1.000000</td>\n",
       "      <td>1.000000</td>\n",
       "      <td>6.0</td>\n",
       "    </tr>\n",
       "    <tr>\n",
       "      <th>25%</th>\n",
       "      <td>1.500000</td>\n",
       "      <td>2.500000</td>\n",
       "      <td>6.0</td>\n",
       "    </tr>\n",
       "    <tr>\n",
       "      <th>50%</th>\n",
       "      <td>2.000000</td>\n",
       "      <td>3.000000</td>\n",
       "      <td>6.0</td>\n",
       "    </tr>\n",
       "    <tr>\n",
       "      <th>75%</th>\n",
       "      <td>3.500000</td>\n",
       "      <td>3.250000</td>\n",
       "      <td>6.0</td>\n",
       "    </tr>\n",
       "    <tr>\n",
       "      <th>max</th>\n",
       "      <td>5.000000</td>\n",
       "      <td>4.000000</td>\n",
       "      <td>6.0</td>\n",
       "    </tr>\n",
       "    <tr>\n",
       "      <th rowspan=\"8\" valign=\"top\">clicks</th>\n",
       "      <th>count</th>\n",
       "      <td>3.000000</td>\n",
       "      <td>4.000000</td>\n",
       "      <td>1.0</td>\n",
       "    </tr>\n",
       "    <tr>\n",
       "      <th>mean</th>\n",
       "      <td>4.333333</td>\n",
       "      <td>3.500000</td>\n",
       "      <td>15.0</td>\n",
       "    </tr>\n",
       "    <tr>\n",
       "      <th>std</th>\n",
       "      <td>5.859465</td>\n",
       "      <td>4.041452</td>\n",
       "      <td>NaN</td>\n",
       "    </tr>\n",
       "    <tr>\n",
       "      <th>min</th>\n",
       "      <td>0.000000</td>\n",
       "      <td>0.000000</td>\n",
       "      <td>15.0</td>\n",
       "    </tr>\n",
       "    <tr>\n",
       "      <th>25%</th>\n",
       "      <td>1.000000</td>\n",
       "      <td>0.750000</td>\n",
       "      <td>15.0</td>\n",
       "    </tr>\n",
       "    <tr>\n",
       "      <th>50%</th>\n",
       "      <td>2.000000</td>\n",
       "      <td>2.500000</td>\n",
       "      <td>15.0</td>\n",
       "    </tr>\n",
       "    <tr>\n",
       "      <th>75%</th>\n",
       "      <td>6.500000</td>\n",
       "      <td>5.250000</td>\n",
       "      <td>15.0</td>\n",
       "    </tr>\n",
       "    <tr>\n",
       "      <th>max</th>\n",
       "      <td>11.000000</td>\n",
       "      <td>9.000000</td>\n",
       "      <td>15.0</td>\n",
       "    </tr>\n",
       "    <tr>\n",
       "      <th rowspan=\"8\" valign=\"top\">payment</th>\n",
       "      <th>count</th>\n",
       "      <td>3.000000</td>\n",
       "      <td>4.000000</td>\n",
       "      <td>1.0</td>\n",
       "    </tr>\n",
       "    <tr>\n",
       "      <th>mean</th>\n",
       "      <td>33.333333</td>\n",
       "      <td>40.000000</td>\n",
       "      <td>130.0</td>\n",
       "    </tr>\n",
       "    <tr>\n",
       "      <th>std</th>\n",
       "      <td>57.735027</td>\n",
       "      <td>52.281290</td>\n",
       "      <td>NaN</td>\n",
       "    </tr>\n",
       "    <tr>\n",
       "      <th>min</th>\n",
       "      <td>0.000000</td>\n",
       "      <td>0.000000</td>\n",
       "      <td>130.0</td>\n",
       "    </tr>\n",
       "    <tr>\n",
       "      <th>25%</th>\n",
       "      <td>0.000000</td>\n",
       "      <td>0.000000</td>\n",
       "      <td>130.0</td>\n",
       "    </tr>\n",
       "    <tr>\n",
       "      <th>50%</th>\n",
       "      <td>0.000000</td>\n",
       "      <td>25.000000</td>\n",
       "      <td>130.0</td>\n",
       "    </tr>\n",
       "    <tr>\n",
       "      <th>75%</th>\n",
       "      <td>50.000000</td>\n",
       "      <td>65.000000</td>\n",
       "      <td>130.0</td>\n",
       "    </tr>\n",
       "    <tr>\n",
       "      <th>max</th>\n",
       "      <td>100.000000</td>\n",
       "      <td>110.000000</td>\n",
       "      <td>130.0</td>\n",
       "    </tr>\n",
       "  </tbody>\n",
       "</table>\n",
       "</div>"
      ],
      "text/plain": [
       "group                   1           2      3\n",
       "user_id count    3.000000    4.000000    1.0\n",
       "        mean     2.666667    2.750000    6.0\n",
       "        std      2.081666    1.258306    NaN\n",
       "        min      1.000000    1.000000    6.0\n",
       "        25%      1.500000    2.500000    6.0\n",
       "        50%      2.000000    3.000000    6.0\n",
       "        75%      3.500000    3.250000    6.0\n",
       "        max      5.000000    4.000000    6.0\n",
       "clicks  count    3.000000    4.000000    1.0\n",
       "        mean     4.333333    3.500000   15.0\n",
       "        std      5.859465    4.041452    NaN\n",
       "        min      0.000000    0.000000   15.0\n",
       "        25%      1.000000    0.750000   15.0\n",
       "        50%      2.000000    2.500000   15.0\n",
       "        75%      6.500000    5.250000   15.0\n",
       "        max     11.000000    9.000000   15.0\n",
       "payment count    3.000000    4.000000    1.0\n",
       "        mean    33.333333   40.000000  130.0\n",
       "        std     57.735027   52.281290    NaN\n",
       "        min      0.000000    0.000000  130.0\n",
       "        25%      0.000000    0.000000  130.0\n",
       "        50%      0.000000   25.000000  130.0\n",
       "        75%     50.000000   65.000000  130.0\n",
       "        max    100.000000  110.000000  130.0"
      ]
     },
     "metadata": {},
     "output_type": "display_data"
    },
    {
     "data": {
      "text/html": [
       "<div>\n",
       "<style scoped>\n",
       "    .dataframe tbody tr th:only-of-type {\n",
       "        vertical-align: middle;\n",
       "    }\n",
       "\n",
       "    .dataframe tbody tr th {\n",
       "        vertical-align: top;\n",
       "    }\n",
       "\n",
       "    .dataframe thead th {\n",
       "        text-align: right;\n",
       "    }\n",
       "</style>\n",
       "<table border=\"1\" class=\"dataframe\">\n",
       "  <thead>\n",
       "    <tr style=\"text-align: right;\">\n",
       "      <th></th>\n",
       "      <th>group</th>\n",
       "      <th>user_id</th>\n",
       "    </tr>\n",
       "  </thead>\n",
       "  <tbody>\n",
       "    <tr>\n",
       "      <th>0</th>\n",
       "      <td>1</td>\n",
       "      <td>5</td>\n",
       "    </tr>\n",
       "    <tr>\n",
       "      <th>1</th>\n",
       "      <td>2</td>\n",
       "      <td>1</td>\n",
       "    </tr>\n",
       "  </tbody>\n",
       "</table>\n",
       "</div>"
      ],
      "text/plain": [
       "   group  user_id\n",
       "0      1        5\n",
       "1      2        1"
      ]
     },
     "metadata": {},
     "output_type": "display_data"
    }
   ],
   "source": [
    "validate_ab_test_data(EXPERIMENT_NAME)"
   ]
  },
  {
   "cell_type": "code",
   "execution_count": 34,
   "id": "84ba8c65",
   "metadata": {},
   "outputs": [
    {
     "data": {
      "text/plain": [
       "'test_hypothesis_relational'"
      ]
     },
     "metadata": {},
     "output_type": "display_data"
    }
   ],
   "source": [
    "test_hypothesis_relational(\n",
    "    EXPERIMENT_NAME,\n",
    "    nominator='payment',\n",
    "    denominator='user_id',\n",
    "    stat_test='chisquare', # ztest\n",
    "    description='conversion to purchase',\n",
    "    uniq_id_rel=True,\n",
    "    significance_level=0.05\n",
    ")"
   ]
  },
  {
   "cell_type": "code",
   "execution_count": 35,
   "id": "1bd844dd",
   "metadata": {},
   "outputs": [
    {
     "data": {
      "text/plain": [
       "'test_hypothesis_relational'"
      ]
     },
     "metadata": {},
     "output_type": "display_data"
    }
   ],
   "source": [
    "test_hypothesis_relational(\n",
    "    EXPERIMENT_NAME,\n",
    "    nominator='clicks',\n",
    "    denominator='user_id',\n",
    "    stat_test='chisquare', # ztest\n",
    "    description='CTR',\n",
    "    uniq_id_rel=False,\n",
    "    significance_level=0.05\n",
    ")"
   ]
  },
  {
   "cell_type": "code",
   "execution_count": 36,
   "id": "050ad34e",
   "metadata": {},
   "outputs": [
    {
     "data": {
      "text/plain": [
       "'test_hypothesis_continuous'"
      ]
     },
     "metadata": {},
     "output_type": "display_data"
    },
    {
     "data": {
      "text/plain": [
       "'not enough data to test \"ARPU (USD after fee)   payment\" hypothesis in groups 1-3'"
      ]
     },
     "metadata": {},
     "output_type": "display_data"
    }
   ],
   "source": [
    "test_hypothesis_continuous(\n",
    "    EXPERIMENT_NAME,\n",
    "    value='payment',\n",
    "    stat_test='ttest_welsh',\n",
    "    description='ARPU (USD after fee)'\n",
    ")"
   ]
  },
  {
   "cell_type": "code",
   "execution_count": 37,
   "id": "e8b8e38b",
   "metadata": {},
   "outputs": [
    {
     "data": {
      "text/plain": [
       "'print_statistical_report'"
      ]
     },
     "metadata": {},
     "output_type": "display_data"
    },
    {
     "data": {
      "text/html": [
       "<div>\n",
       "<style scoped>\n",
       "    .dataframe tbody tr th:only-of-type {\n",
       "        vertical-align: middle;\n",
       "    }\n",
       "\n",
       "    .dataframe tbody tr th {\n",
       "        vertical-align: top;\n",
       "    }\n",
       "\n",
       "    .dataframe thead th {\n",
       "        text-align: right;\n",
       "    }\n",
       "</style>\n",
       "<table border=\"1\" class=\"dataframe\">\n",
       "  <thead>\n",
       "    <tr style=\"text-align: right;\">\n",
       "      <th></th>\n",
       "      <th>1</th>\n",
       "      <th>2</th>\n",
       "      <th>3</th>\n",
       "      <th>group 1-2 sign.</th>\n",
       "      <th>group 1-3 sign.</th>\n",
       "    </tr>\n",
       "    <tr>\n",
       "      <th>metrics</th>\n",
       "      <th></th>\n",
       "      <th></th>\n",
       "      <th></th>\n",
       "      <th></th>\n",
       "      <th></th>\n",
       "    </tr>\n",
       "  </thead>\n",
       "  <tbody>\n",
       "    <tr>\n",
       "      <th>conversion to purchase</th>\n",
       "      <td>0.333</td>\n",
       "      <td>0.333 (+0.00%)</td>\n",
       "      <td>1.0 (+200.00%)</td>\n",
       "      <td>- (H0 accepted)</td>\n",
       "      <td>- (H0 accepted)</td>\n",
       "    </tr>\n",
       "    <tr>\n",
       "      <th>CTR</th>\n",
       "      <td>1.625</td>\n",
       "      <td>1.273 (-21.68%)</td>\n",
       "      <td>2.5 (+53.85%)</td>\n",
       "      <td>- (H0 accepted)</td>\n",
       "      <td>- (H0 accepted)</td>\n",
       "    </tr>\n",
       "    <tr>\n",
       "      <th>ARPU (USD after fee)</th>\n",
       "      <td>33.333</td>\n",
       "      <td>40.0 (+20.00%)</td>\n",
       "      <td>NaN</td>\n",
       "      <td>- (H0 accepted)</td>\n",
       "      <td>NaN</td>\n",
       "    </tr>\n",
       "  </tbody>\n",
       "</table>\n",
       "</div>"
      ],
      "text/plain": [
       "                             1                2               3  \\\n",
       "metrics                                                           \n",
       "conversion to purchase   0.333   0.333 (+0.00%)  1.0 (+200.00%)   \n",
       "CTR                      1.625  1.273 (-21.68%)   2.5 (+53.85%)   \n",
       "ARPU (USD after fee)    33.333   40.0 (+20.00%)             NaN   \n",
       "\n",
       "                        group 1-2 sign.  group 1-3 sign.  \n",
       "metrics                                                   \n",
       "conversion to purchase  - (H0 accepted)  - (H0 accepted)  \n",
       "CTR                     - (H0 accepted)  - (H0 accepted)  \n",
       "ARPU (USD after fee)    - (H0 accepted)              NaN  "
      ]
     },
     "metadata": {},
     "output_type": "display_data"
    },
    {
     "data": {
      "text/plain": [
       "'Holm miltiple testing correction is applied'"
      ]
     },
     "metadata": {},
     "output_type": "display_data"
    },
    {
     "data": {
      "text/html": [
       "<div>\n",
       "<style scoped>\n",
       "    .dataframe tbody tr th:only-of-type {\n",
       "        vertical-align: middle;\n",
       "    }\n",
       "\n",
       "    .dataframe tbody tr th {\n",
       "        vertical-align: top;\n",
       "    }\n",
       "\n",
       "    .dataframe thead th {\n",
       "        text-align: right;\n",
       "    }\n",
       "</style>\n",
       "<table border=\"1\" class=\"dataframe\">\n",
       "  <thead>\n",
       "    <tr style=\"text-align: right;\">\n",
       "      <th></th>\n",
       "      <th>pval. 1-2</th>\n",
       "      <th>pval. 1-3</th>\n",
       "      <th>corrected pval. 1-2</th>\n",
       "      <th>corrected pval. 1-3</th>\n",
       "    </tr>\n",
       "  </thead>\n",
       "  <tbody>\n",
       "    <tr>\n",
       "      <th>conversion to purchase</th>\n",
       "      <td>1.000</td>\n",
       "      <td>0.248</td>\n",
       "      <td>1.0</td>\n",
       "      <td>1.0</td>\n",
       "    </tr>\n",
       "    <tr>\n",
       "      <th>CTR</th>\n",
       "      <td>1.000</td>\n",
       "      <td>1.000</td>\n",
       "      <td>1.0</td>\n",
       "      <td>1.0</td>\n",
       "    </tr>\n",
       "    <tr>\n",
       "      <th>ARPU (USD after fee)</th>\n",
       "      <td>0.882</td>\n",
       "      <td>NaN</td>\n",
       "      <td>1.0</td>\n",
       "      <td>NaN</td>\n",
       "    </tr>\n",
       "  </tbody>\n",
       "</table>\n",
       "</div>"
      ],
      "text/plain": [
       "                        pval. 1-2  pval. 1-3  corrected pval. 1-2  \\\n",
       "conversion to purchase      1.000      0.248                  1.0   \n",
       "CTR                         1.000      1.000                  1.0   \n",
       "ARPU (USD after fee)        0.882        NaN                  1.0   \n",
       "\n",
       "                        corrected pval. 1-3  \n",
       "conversion to purchase                  1.0  \n",
       "CTR                                     1.0  \n",
       "ARPU (USD after fee)                    NaN  "
      ]
     },
     "metadata": {},
     "output_type": "display_data"
    }
   ],
   "source": [
    "print_statistical_report(EXPERIMENT_NAME)"
   ]
  },
  {
   "cell_type": "code",
   "execution_count": 38,
   "id": "7510e686",
   "metadata": {},
   "outputs": [
    {
     "data": {
      "text/plain": [
       "'save_report_to_html'"
      ]
     },
     "metadata": {},
     "output_type": "display_data"
    }
   ],
   "source": [
    "save_report_to_html(EXPERIMENT_NAME)"
   ]
  },
  {
   "cell_type": "code",
   "execution_count": null,
   "id": "ce5ce3c6",
   "metadata": {},
   "outputs": [],
   "source": []
  }
 ],
 "metadata": {
  "interpreter": {
   "hash": "d9c6852130284a8c17c0cd0350af91b42bb0a1aa584f29090a61530532e3b0b0"
  },
  "kernelspec": {
   "display_name": "Python 3.9.1 64-bit",
   "name": "python3"
  },
  "language_info": {
   "codemirror_mode": {
    "name": "ipython",
    "version": 3
   },
   "file_extension": ".py",
   "mimetype": "text/x-python",
   "name": "python",
   "nbconvert_exporter": "python",
   "pygments_lexer": "ipython3",
   "version": "3.9.1"
  }
 },
 "nbformat": 4,
 "nbformat_minor": 5
}
